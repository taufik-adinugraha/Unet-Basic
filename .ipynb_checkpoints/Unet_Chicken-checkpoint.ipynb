{
 "cells": [
  {
   "cell_type": "code",
   "execution_count": null,
   "metadata": {
    "id": "zX8JwvqLd46C"
   },
   "outputs": [],
   "source": [
    "# !nvidia-smi"
   ]
  },
  {
   "cell_type": "markdown",
   "metadata": {
    "id": "TImYTJn3eCmt"
   },
   "source": [
    "## Setup"
   ]
  },
  {
   "cell_type": "code",
   "execution_count": null,
   "metadata": {
    "id": "FXVxyflmhC8u"
   },
   "outputs": [],
   "source": [
    "!pip install segmentation-models\n",
    "!pip install tensorflow==2.1.0\n",
    "!pip install keras==2.3.1\n",
    "!pip install h5py==2.10.0"
   ]
  },
  {
   "cell_type": "code",
   "execution_count": null,
   "metadata": {
    "colab": {
     "base_uri": "https://localhost:8080/"
    },
    "id": "KviWHFILVKqZ",
    "outputId": "0a555960-0906-4c9b-f073-983bf4f984fa"
   },
   "outputs": [],
   "source": [
    "import tensorflow as tf\n",
    "import segmentation_models as sm\n",
    "sm.set_framework('tf.keras')"
   ]
  },
  {
   "cell_type": "code",
   "execution_count": null,
   "metadata": {
    "colab": {
     "base_uri": "https://localhost:8080/"
    },
    "id": "81oZf16_tHlb",
    "outputId": "e58f05fd-7430-4641-f2fb-9bf2e0e3ef22"
   },
   "outputs": [],
   "source": [
    "!git clone https://github.com/taufik-adinugraha/Unet-Basic.git\n",
    "# !cd Unet-Basic && git pull origin main"
   ]
  },
  {
   "cell_type": "code",
   "execution_count": null,
   "metadata": {
    "id": "73Ey1SO3eSsV"
   },
   "outputs": [],
   "source": [
    "import os\n",
    "\n",
    "ROOT_DIR = './'\n",
    "WORK_DIR = 'Unet-Basic'\n",
    "\n",
    "import sys\n",
    "sys.path.append(WORK_DIR)\n",
    "from tools import *"
   ]
  },
  {
   "cell_type": "markdown",
   "metadata": {
    "id": "6Hnm8K6_eHO0"
   },
   "source": [
    "## Model"
   ]
  },
  {
   "cell_type": "code",
   "execution_count": null,
   "metadata": {
    "colab": {
     "base_uri": "https://localhost:8080/"
    },
    "id": "_etLuquoVpup",
    "outputId": "2a81a478-2254-46fc-fa5e-3251efc44d42"
   },
   "outputs": [],
   "source": [
    "backbone = 'efficientnetb0'\n",
    "weights = 'imagenet'\n",
    "n_classes = 1\n",
    "\n",
    "# Build Unet\n",
    "model = sm.Unet(\n",
    "    backbone_name = backbone,\n",
    "    classes = n_classes,\n",
    "    encoder_weights = weights\n",
    "    )\n",
    "\n",
    "# Compile\n",
    "model.compile(\n",
    "    optimizer = 'Adam',\n",
    "    loss = sm.losses.bce_jaccard_loss,\n",
    "    metrics = [sm.metrics.iou_score]\n",
    "    )"
   ]
  },
  {
   "cell_type": "markdown",
   "metadata": {
    "id": "YDIPzpjOePRY"
   },
   "source": [
    "## Dataset"
   ]
  },
  {
   "cell_type": "code",
   "execution_count": null,
   "metadata": {
    "id": "ztAQCw89tlX3"
   },
   "outputs": [],
   "source": [
    "pipe = pipeline(\n",
    "    img_dir = 'train',\n",
    "    mask_dir = 'train/segmentation',\n",
    "    store_dir = DRIVE_DIR\n",
    ")\n",
    "\n",
    "pipe.batch_size = 12\n",
    "pipe.img_size = (128, 128)\n",
    "pipe.split = 0.95\n",
    "\n",
    "prep = sm.get_preprocessing(backbone)"
   ]
  },
  {
   "cell_type": "code",
   "execution_count": null,
   "metadata": {
    "colab": {
     "base_uri": "https://localhost:8080/",
     "height": 483
    },
    "id": "_5Iw9rKOZFRs",
    "outputId": "2fcbb8c1-89bd-4345-d7f4-25a78eca7129"
   },
   "outputs": [],
   "source": [
    "# sample dataset\n",
    "pipe.sample_images()"
   ]
  },
  {
   "cell_type": "code",
   "execution_count": null,
   "metadata": {
    "id": "Fa2qRPy5cpLr"
   },
   "outputs": [],
   "source": [
    "pipe.dataset(prep)"
   ]
  },
  {
   "cell_type": "markdown",
   "metadata": {
    "id": "o3GA3kMJmgEv"
   },
   "source": [
    "## Train"
   ]
  },
  {
   "cell_type": "code",
   "execution_count": null,
   "metadata": {
    "colab": {
     "base_uri": "https://localhost:8080/"
    },
    "id": "Spi9L_R6Khdy",
    "outputId": "b470a548-f366-444a-c77b-bcad2222237e"
   },
   "outputs": [],
   "source": [
    "x = pipe.train[0]\n",
    "y = pipe.train[1]\n",
    "x.shape, y.shape"
   ]
  },
  {
   "cell_type": "code",
   "execution_count": null,
   "metadata": {
    "id": "hwWhPwMxro6g"
   },
   "outputs": [],
   "source": [
    "from tensorflow.keras.callbacks import EarlyStopping\n",
    "\n",
    "# pipe.add_callbacks = EarlyStopping(patience=5)"
   ]
  },
  {
   "cell_type": "code",
   "execution_count": null,
   "metadata": {
    "colab": {
     "base_uri": "https://localhost:8080/",
     "height": 1000
    },
    "id": "Vmw4buJxOb7S",
    "outputId": "b2aef34b-1e83-4899-9951-2db21af79529"
   },
   "outputs": [],
   "source": [
    "model.fit(\n",
    "    x, y,\n",
    "    validation_data = pipe.valid,\n",
    "    batch_size = pipe.batch_size,\n",
    "    epochs = 10000, \n",
    "    verbose = 1,\n",
    "    callbacks = pipe.customCallbacks(),\n",
    "    )"
   ]
  },
  {
   "cell_type": "markdown",
   "metadata": {
    "id": "fhWOS3TH1KX2"
   },
   "source": [
    "## Testing"
   ]
  },
  {
   "cell_type": "code",
   "execution_count": null,
   "metadata": {
    "id": "3E_L5rUZaihr"
   },
   "outputs": [],
   "source": [
    "filenames = [\"ayam-6.jpg\", \"ayam-7.jpg\"]\n",
    "pipe.test(filenames, model) "
   ]
  },
  {
   "cell_type": "code",
   "execution_count": null,
   "metadata": {
    "id": "qmPZoThL0ioA"
   },
   "outputs": [],
   "source": [
    "model.save(os.path.join(DRIVE_DIR, \"FIN_Unet.h5\"))"
   ]
  },
  {
   "cell_type": "code",
   "execution_count": null,
   "metadata": {
    "id": "IoL4sQPXDiDL"
   },
   "outputs": [],
   "source": []
  }
 ],
 "metadata": {
  "accelerator": "GPU",
  "colab": {
   "collapsed_sections": [],
   "name": "Unet-Chicken.ipynb",
   "provenance": []
  },
  "kernelspec": {
   "display_name": "Python 3 (ipykernel)",
   "language": "python",
   "name": "python3"
  },
  "language_info": {
   "codemirror_mode": {
    "name": "ipython",
    "version": 3
   },
   "file_extension": ".py",
   "mimetype": "text/x-python",
   "name": "python",
   "nbconvert_exporter": "python",
   "pygments_lexer": "ipython3",
   "version": "3.7.11"
  }
 },
 "nbformat": 4,
 "nbformat_minor": 1
}
